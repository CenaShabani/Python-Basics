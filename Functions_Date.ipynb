{
 "cells": [
  {
   "cell_type": "code",
   "execution_count": null,
   "metadata": {},
   "outputs": [],
   "source": [
    "## Functions in Python "
   ]
  },
  {
   "cell_type": "markdown",
   "metadata": {},
   "source": [
    "# Version 1"
   ]
  },
  {
   "cell_type": "markdown",
   "metadata": {},
   "source": [
    "In this version the day, month and year is asked and then the date would be shown. 2 functions is defined, one for asking and storing the data and the other for showing the parsed date. "
   ]
  },
  {
   "cell_type": "code",
   "execution_count": 15,
   "metadata": {},
   "outputs": [],
   "source": [
    "def get_date():\n",
    "    day = input(\" Enter the Current Day\")\n",
    "    month = input(\"\\n Enter the Current Month\")\n",
    "    year = input(\"\\n Enter the Current Year\")\n",
    "    return day, month, year\n",
    "def show_date():\n",
    "    day,month, year = get_date()\n",
    "    print(\"Todays's Date with YYYY-MM-DD Format is  \")\n",
    "    print(f\"\\n {year}-{month}-{day}\")"
   ]
  },
  {
   "cell_type": "code",
   "execution_count": 16,
   "metadata": {},
   "outputs": [
    {
     "name": "stdout",
     "output_type": "stream",
     "text": [
      "Todays's Date with YYYY-MM-DD Format is  \n",
      "\n",
      " 2023-10-07\n"
     ]
    }
   ],
   "source": [
    "show_date()"
   ]
  },
  {
   "cell_type": "markdown",
   "metadata": {},
   "source": [
    "# Version 2"
   ]
  },
  {
   "cell_type": "markdown",
   "metadata": {},
   "source": [
    "In this version, lambda function is used."
   ]
  },
  {
   "cell_type": "code",
   "execution_count": 17,
   "metadata": {},
   "outputs": [],
   "source": [
    "day = input(\" Enter the Current Day\")\n",
    "month = input(\"\\n Enter the Current Month\")\n",
    "year = input(\"\\n Enter the Current Year\")\n",
    "date = lambda year,month,day : f\"{year}-{month}-{day}\"\n",
    "date(year,month,day)"
   ]
  },
  {
   "cell_type": "markdown",
   "metadata": {},
   "source": [
    "# Version 3 "
   ]
  },
  {
   "cell_type": "markdown",
   "metadata": {},
   "source": [
    "Parsing more dates"
   ]
  }
 ],
 "metadata": {
  "kernelspec": {
   "display_name": "Python 3",
   "language": "python",
   "name": "python3"
  },
  "language_info": {
   "codemirror_mode": {
    "name": "ipython",
    "version": 3
   },
   "file_extension": ".py",
   "mimetype": "text/x-python",
   "name": "python",
   "nbconvert_exporter": "python",
   "pygments_lexer": "ipython3",
   "version": "3.10.11"
  }
 },
 "nbformat": 4,
 "nbformat_minor": 2
}
