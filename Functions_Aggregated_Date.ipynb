{
 "cells": [
  {
   "cell_type": "code",
   "execution_count": 3,
   "metadata": {},
   "outputs": [],
   "source": [
    "def agg_date():\n",
    "    day = int(input(\" Enter The Number of Datys: \"))\n",
    "    month = day//31\n",
    "    res = day%31\n",
    "    if month>1:\n",
    "        if res>1:\n",
    "            print(f\"The Number of Days Equals to:\\n {month} Months and {res} Days\")\n",
    "        else:\n",
    "            print(f\"The Number of Days Equals to:\\n {month} Months and {res} Day\")\n",
    "\n",
    "    else:\n",
    "        if res>1:\n",
    "            print(f\"The Number of Days Equals to:\\n {month} Month and {res} Days\")\n",
    "        else:        \n",
    "            print(f\"The Number of Days Equals to:\\n {month} Month and {res} Day\")\n",
    "\n",
    "\n"
   ]
  },
  {
   "cell_type": "code",
   "execution_count": null,
   "metadata": {},
   "outputs": [],
   "source": []
  }
 ],
 "metadata": {
  "kernelspec": {
   "display_name": "Python 3",
   "language": "python",
   "name": "python3"
  },
  "language_info": {
   "codemirror_mode": {
    "name": "ipython",
    "version": 3
   },
   "file_extension": ".py",
   "mimetype": "text/x-python",
   "name": "python",
   "nbconvert_exporter": "python",
   "pygments_lexer": "ipython3",
   "version": "3.10.11"
  }
 },
 "nbformat": 4,
 "nbformat_minor": 2
}
